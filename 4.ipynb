{
 "cells": [
  {
   "cell_type": "code",
   "execution_count": 1,
   "metadata": {},
   "outputs": [
    {
     "name": "stdout",
     "output_type": "stream",
     "text": [
      "{'Willow': {'valence': 0.529, 'arousal': 0.392}, 'Zevia': {'valence': 0.372, 'arousal': 0.91}, 'Fall Out Boy': {'valence': 0.282, 'arousal': 0.547}, 'Shake it Off': {'valence': 0.943, 'arousal': 0.647}}\n"
     ]
    }
   ],
   "source": [
    "import spotipy\n",
    "from spotipy.oauth2 import SpotifyClientCredentials\n",
    "import matplotlib.pyplot as plt\n",
    "import mplcursors\n",
    "import numpy as np\n",
    "\n",
    "# Set up Spotify API credentials\n",
    "client_id = '8a9262cf15dd4e16bd72737b6e6a93ee'\n",
    "client_secret = '1b7eb12115884c8eb165f3291eaa55c6'\n",
    "redirect_uri = 'https://en.wikipedia.org/wiki/India'\n",
    "\n",
    "client_credentials_manager = SpotifyClientCredentials(client_id=client_id, client_secret=client_secret)\n",
    "sp = spotipy.Spotify(client_credentials_manager=client_credentials_manager)\n",
    "\n",
    "def get_track_id(track_name):\n",
    "    \"\"\"Get the Spotify track ID for a given track name.\"\"\"\n",
    "    results = sp.search(q='track:' + track_name, type='track')\n",
    "    return results['tracks']['items'][0]['id']\n",
    "\n",
    "def get_track_features(track_id):\n",
    "    \"\"\"Get the valence and arousal (danceability) for a given track ID.\"\"\"\n",
    "    features = sp.audio_features([track_id])\n",
    "    valence = features[0]['valence']\n",
    "    arousal = features[0]['danceability']\n",
    "    return {'valence': valence, 'arousal': arousal}\n",
    "\n",
    "def get_tracks_data(track_names):\n",
    "    \"\"\"Get valence and arousal data for a list of tracks.\"\"\"\n",
    "    tracks_data = {}\n",
    "    for track_name in track_names:\n",
    "        track_id = get_track_id(track_name)\n",
    "        track_features = get_track_features(track_id)\n",
    "        tracks_data[track_name] = track_features\n",
    "    return tracks_data\n",
    "\n",
    "track_names = ['Willow', 'Zevia', 'Fall Out Boy', 'Shake it Off']  # Replace with your list of song names\n",
    "tracks_data = get_tracks_data(track_names)\n",
    "print(tracks_data)\n"
   ]
  },
  {
   "cell_type": "code",
   "execution_count": 25,
   "metadata": {},
   "outputs": [],
   "source": [
    "import pandas as pd\n",
    "import matplotlib.pyplot as plt\n",
    "import numpy as np\n",
    "from sklearn.metrics import mean_squared_error\n",
    "\n",
    "\n",
    "# Assuming you have a CSV file named 'responses.csv'\n",
    "df = pd.read_csv('combined_file.csv')\n",
    "df['video'] = df.iloc[:, 14]\n",
    "df['Valence_value']=df.iloc[:, 10]\n",
    "df['Arousal_value']=df.iloc[:, 11]"
   ]
  },
  {
   "cell_type": "code",
   "execution_count": 26,
   "metadata": {},
   "outputs": [
    {
     "name": "stdout",
     "output_type": "stream",
     "text": [
      "            Song  Valence_value  Arousal_value video\n",
      "0         Willow            7.0            5.0    No\n",
      "1          Zevia            3.0            2.0    No\n",
      "2   Fall Out Boy            9.0            9.0    No\n",
      "3   Shake it Off            6.0            8.0    No\n",
      "4         Willow            7.0            7.0    No\n",
      "5         Willow            8.0            9.0   Yes\n",
      "6          Zevia            3.0            1.0   Yes\n",
      "7   Fall Out Boy            7.0           10.0   Yes\n",
      "8   Shake it Off            6.0            7.0   Yes\n",
      "9         Willow            9.0            4.0   Yes\n",
      "10        Willow            8.0            3.0   Yes\n"
     ]
    }
   ],
   "source": [
    "# Keep only the desired columns\n",
    "df = df[['Song', 'Valence_value', 'Arousal_value', 'video']]\n",
    "df = df.dropna(subset=['video'])\n",
    "\n",
    "print(df)"
   ]
  },
  {
   "cell_type": "code",
   "execution_count": 38,
   "metadata": {},
   "outputs": [
    {
     "name": "stdout",
     "output_type": "stream",
     "text": [
      "Euclidean distances for 'willow' with video 'yes': [11.397960563188487, 9.20736145700819, 7.913122329396911]\n",
      "Euclidean distances for 'willow' with video 'no': [7.944023225041578, 9.248756943503272]\n"
     ]
    }
   ],
   "source": [
    "df_willow_yes = df[(df['Song'] == 'Willow') & (df['video'] == 'Yes')]\n",
    "df_willow_no = df[(df['Song'] == 'Willow') & (df['video'] == 'No')]\n",
    "euclidean_distances_yes = []\n",
    "euclidean_distances_no = []\n",
    "for index, row in df_willow_yes.iterrows():\n",
    "    x = row['Valence_value']\n",
    "    y = row['Arousal_value']\n",
    "    x0 = tracks_data['Willow']['valence']\n",
    "    y0 = tracks_data['Willow']['arousal']\n",
    "    euclidean_distance = np.sqrt((x - x0)**2 + (y - y0)**2)\n",
    "    euclidean_distances_yes.append(euclidean_distance)\n",
    "\n",
    "# Calculate Euclidean distance for 'no' video\n",
    "for index, row in df_willow_no.iterrows():\n",
    "    x = row['Valence_value']\n",
    "    y = row['Arousal_value']\n",
    "    x0 = tracks_data['Willow']['valence']\n",
    "    y0 = tracks_data['Willow']['arousal']\n",
    "    euclidean_distance = np.sqrt((x - x0)**2 + (y - y0)**2)\n",
    "    euclidean_distances_no.append(euclidean_distance)\n",
    "\n",
    "print(\"Euclidean distances for 'willow' with video 'yes':\", euclidean_distances_yes)\n",
    "print(\"Euclidean distances for 'willow' with video 'no':\", euclidean_distances_no)"
   ]
  },
  {
   "cell_type": "code",
   "execution_count": 39,
   "metadata": {},
   "outputs": [
    {
     "name": "stdout",
     "output_type": "stream",
     "text": [
      "Euclidean distances for 'Willow' with video 'Yes': [11.397960563188487, 9.20736145700819, 7.913122329396911]\n",
      "Euclidean distances for 'Willow' with video 'No': [7.944023225041578, 9.248756943503272]\n",
      "Euclidean distances for 'Zevia' with video 'Yes': [2.6295406442951212]\n",
      "Euclidean distances for 'Zevia' with video 'No': [2.8450806666947077]\n",
      "Euclidean distances for 'Fall Out Boy' with video 'Yes': [11.597013969121534]\n",
      "Euclidean distances for 'Fall Out Boy' with video 'No': [12.143176396643508]\n",
      "Euclidean distances for 'Shake it Off' with video 'Yes': [8.119966625547177]\n",
      "Euclidean distances for 'Shake it Off' with video 'No': [8.924116650963276]\n"
     ]
    }
   ],
   "source": [
    "euclidean_distances = {}\n",
    "\n",
    "# Iterate over each unique song\n",
    "for song in df['Song'].unique():\n",
    "    # Filter the DataFrame for the current song and videos labeled as 'Yes' and 'No'\n",
    "    df_song_yes = df[(df['Song'] == song) & (df['video'] == 'Yes')]\n",
    "    df_song_no = df[(df['Song'] == song) & (df['video'] == 'No')]\n",
    "    \n",
    "    # Initialize arrays to store Euclidean distances for the current song\n",
    "    euclidean_distances_yes = []\n",
    "    euclidean_distances_no = []\n",
    "    \n",
    "    # Calculate Euclidean distance for 'Yes' video\n",
    "    for index, row in df_song_yes.iterrows():\n",
    "        x = row['Valence_value']\n",
    "        y = row['Arousal_value']\n",
    "        x0 = tracks_data[song]['valence']\n",
    "        y0 = tracks_data[song]['arousal']\n",
    "        euclidean_distance = np.sqrt((x - x0)**2 + (y - y0)**2)\n",
    "        euclidean_distances_yes.append(euclidean_distance)\n",
    "    \n",
    "    # Calculate Euclidean distance for 'No' video\n",
    "    for index, row in df_song_no.iterrows():\n",
    "        x = row['Valence_value']\n",
    "        y = row['Arousal_value']\n",
    "        x0 = tracks_data[song]['valence']\n",
    "        y0 = tracks_data[song]['arousal']\n",
    "        euclidean_distance = np.sqrt((x - x0)**2 + (y - y0)**2)\n",
    "        euclidean_distances_no.append(euclidean_distance)\n",
    "    \n",
    "    # Store Euclidean distances in the dictionary\n",
    "    euclidean_distances[song] = {'yes': euclidean_distances_yes, 'no': euclidean_distances_no}\n",
    "\n",
    "# Print Euclidean distances for each song\n",
    "for song, distances in euclidean_distances.items():\n",
    "    print(f\"Euclidean distances for '{song}' with video 'Yes':\", distances['yes'])\n",
    "    print(f\"Euclidean distances for '{song}' with video 'No':\", distances['no'])"
   ]
  },
  {
   "cell_type": "code",
   "execution_count": null,
   "metadata": {},
   "outputs": [],
   "source": []
  }
 ],
 "metadata": {
  "kernelspec": {
   "display_name": "Python 3",
   "language": "python",
   "name": "python3"
  },
  "language_info": {
   "codemirror_mode": {
    "name": "ipython",
    "version": 3
   },
   "file_extension": ".py",
   "mimetype": "text/x-python",
   "name": "python",
   "nbconvert_exporter": "python",
   "pygments_lexer": "ipython3",
   "version": "3.11.0"
  }
 },
 "nbformat": 4,
 "nbformat_minor": 2
}
