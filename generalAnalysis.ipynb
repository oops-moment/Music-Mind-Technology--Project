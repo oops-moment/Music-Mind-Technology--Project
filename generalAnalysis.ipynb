{
 "cells": [
  {
   "cell_type": "code",
   "execution_count": 23,
   "metadata": {},
   "outputs": [
    {
     "name": "stdout",
     "output_type": "stream",
     "text": [
      "Requirement already satisfied: textblob in /opt/homebrew/Caskroom/miniforge/base/envs/ml/lib/python3.11/site-packages (0.18.0.post0)\n",
      "Requirement already satisfied: nltk>=3.8 in /opt/homebrew/Caskroom/miniforge/base/envs/ml/lib/python3.11/site-packages (from textblob) (3.8.1)\n",
      "Requirement already satisfied: click in /opt/homebrew/Caskroom/miniforge/base/envs/ml/lib/python3.11/site-packages (from nltk>=3.8->textblob) (8.1.7)\n",
      "Requirement already satisfied: joblib in /opt/homebrew/Caskroom/miniforge/base/envs/ml/lib/python3.11/site-packages (from nltk>=3.8->textblob) (1.2.0)\n",
      "Requirement already satisfied: regex>=2021.8.3 in /opt/homebrew/Caskroom/miniforge/base/envs/ml/lib/python3.11/site-packages (from nltk>=3.8->textblob) (2023.10.3)\n",
      "Requirement already satisfied: tqdm in /opt/homebrew/Caskroom/miniforge/base/envs/ml/lib/python3.11/site-packages (from nltk>=3.8->textblob) (4.66.1)\n"
     ]
    }
   ],
   "source": [
    "! pip3 install textblob"
   ]
  },
  {
   "cell_type": "code",
   "execution_count": 24,
   "metadata": {},
   "outputs": [],
   "source": [
    "import pandas as pd\n",
    "import matplotlib.pyplot as plt\n",
    "from textblob import TextBlob\n",
    "\n",
    "# Assuming you have a CSV file named 'responses.csv'\n",
    "df = pd.read_csv('combined_file.csv')\n"
   ]
  },
  {
   "cell_type": "code",
   "execution_count": 25,
   "metadata": {},
   "outputs": [
    {
     "name": "stdout",
     "output_type": "stream",
     "text": [
      "0                                   Frequent, Top Picks\n",
      "1     Not very often , not at all infact becuse i li...\n",
      "2     I dont listen this type of music much only few...\n",
      "3     Almost all the time. Pop and heavy metal are t...\n",
      "4                                        Not very often\n",
      "5                                                Rarely\n",
      "6                                  approx 15-20 per day\n",
      "7     not very often. I listen to music while studyi...\n",
      "8                                         almost always\n",
      "9                                                Rarely\n",
      "10                                           Frequently\n",
      "11                                           Very often\n",
      "12                                               seldom\n",
      "13              Always. Everyday. Atleast 5 hrs per day\n",
      "14                                                a lot\n",
      "15    Ocassionally, I enjoy listening to soft melodi...\n",
      "16                                                A lot\n",
      "Name: How often do you listen to this type of music?, dtype: object\n"
     ]
    }
   ],
   "source": [
    "print(df.iloc[:,-1])"
   ]
  },
  {
   "cell_type": "code",
   "execution_count": 26,
   "metadata": {},
   "outputs": [],
   "source": [
    "def get_sentiment(text):\n",
    "    # This function returns 'Yes' if the sentiment is positive, 'No' if it's negative or NaN\n",
    "    if pd.isna(text):\n",
    "        return 'No'\n",
    "    return 'Yes' if TextBlob(str(text)).sentiment.polarity > 0 else 'No'\n",
    "\n",
    "# Apply the function to the last column of the DataFrame to create the 'Prefer' column\n",
    "df['Prefer'] = df.iloc[:, -1].apply(get_sentiment)\n"
   ]
  },
  {
   "cell_type": "code",
   "execution_count": 29,
   "metadata": {},
   "outputs": [
    {
     "name": "stdout",
     "output_type": "stream",
     "text": [
      "0     Yes\n",
      "1     Yes\n",
      "2      No\n",
      "3      No\n",
      "4      No\n",
      "5     Yes\n",
      "6      No\n",
      "7     Yes\n",
      "8      No\n",
      "9     Yes\n",
      "10    Yes\n",
      "11    Yes\n",
      "12     No\n",
      "13     No\n",
      "14     No\n",
      "15    Yes\n",
      "16     No\n",
      "Name: Prefer, dtype: object\n"
     ]
    }
   ],
   "source": [
    "print(df['Prefer'])"
   ]
  },
  {
   "cell_type": "code",
   "execution_count": 30,
   "metadata": {},
   "outputs": [
    {
     "data": {
      "image/png": "[encoded data removed]",
      "text/plain": [
       "<Figure size 640x480 with 1 Axes>"
      ]
     },
     "metadata": {},
     "output_type": "display_data"
    }
   ],
   "source": [
    "frequency = df['Prefer'].value_counts()\n",
    "\n",
    "# Plot the frequency chart\n",
    "frequency.plot(kind='bar', color='skyblue', alpha=0.7)\n",
    "plt.xlabel('Preference')\n",
    "plt.ylabel('Frequency')\n",
    "plt.title('Frequency of Preferences')\n",
    "plt.xticks(rotation=0)\n",
    "plt.show()"
   ]
  },
  {
   "cell_type": "code",
   "execution_count": null,
   "metadata": {},
   "outputs": [],
   "source": []
  }
 ],
 "metadata": {
  "kernelspec": {
   "display_name": "Python 3",
   "language": "python",
   "name": "python3"
  },
  "language_info": {
   "codemirror_mode": {
    "name": "ipython",
    "version": 3
   },
   "file_extension": ".py",
   "mimetype": "text/x-python",
   "name": "python",
   "nbconvert_exporter": "python",
   "pygments_lexer": "ipython3",
   "version": "3.11.0"
  }
 },
 "nbformat": 4,
 "nbformat_minor": 2
}
