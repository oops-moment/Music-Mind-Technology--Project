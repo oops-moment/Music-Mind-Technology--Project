{
 "cells": [
  {
   "cell_type": "code",
   "execution_count": 3,
   "metadata": {},
   "outputs": [
    {
     "name": "stdout",
     "output_type": "stream",
     "text": [
      "           Song Video        Arousal and Valence            Timestamp  Score  \\\n",
      "0        Willow   NaN   High Valence Low Arousal  08/04/2024 18:02:56    NaN   \n",
      "1         Zevia   NaN    Low Valence Low Arousal  08/04/2024 18:14:55    NaN   \n",
      "2  Fall Out Boy   NaN   Low Valence High Arousal  08/04/2024 18:23:57    NaN   \n",
      "3  Shake it Off   NaN  High Valence High Arousal  08/04/2024 18:33:10    NaN   \n",
      "4        Willow   NaN   High Valence Low Arousal  08/04/2024 18:44:09    NaN   \n",
      "\n",
      "               Name                                 Email  Gender   Age  \\\n",
      "0           Sherley  sherley.peethala@research.iiit.ac.in  Female  18.0   \n",
      "1       Hemang Jain               hemangjain112@gmail.com    Male  19.0   \n",
      "2   Vaishnavi Khule   Vaishnavi.khule@students.iiit.ac.in  Female  23.0   \n",
      "3     Atharva Pande        atharva.pande@students.iiit.ac    Male  23.0   \n",
      "4  Vedashree Ranade  vedashree.ranade@students.iiit.ac.in  Female  24.0   \n",
      "\n",
      "   On a scale from 1 to 10, how would you rate the valence of the song (valence refers to the emotional positivity or negativity conveyed by the song, with higher scores indicating a more positive emotional tone)  \\\n",
      "0                                                7.0                                                                                                                                                                   \n",
      "1                                                3.0                                                                                                                                                                   \n",
      "2                                                9.0                                                                                                                                                                   \n",
      "3                                                6.0                                                                                                                                                                   \n",
      "4                                                7.0                                                                                                                                                                   \n",
      "\n",
      "   On a scale from 1 to 10, how would you rate the arousal by the song ( higher scores correspond to higher excitement or stimulation elicited by the song).  \\\n",
      "0                                                5.0                                                                                                           \n",
      "1                                                2.0                                                                                                           \n",
      "2                                                9.0                                                                                                           \n",
      "3                                                8.0                                                                                                           \n",
      "4                                                7.0                                                                                                           \n",
      "\n",
      "  Any lines/phrases/words you recall from the music.  \\\n",
      "0                                           90sTrend   \n",
      "1                              Wounds behind my back   \n",
      "2                                      whoa oh oh oh   \n",
      "3                                  Haters gonna hate   \n",
      "4  thats my man, hold my hand, begging for, every...   \n",
      "\n",
      "   Rate the overall liking of the song on a scale from 1 to 10.  \\\n",
      "0                                                9.0              \n",
      "1                                                6.0              \n",
      "2                                                7.0              \n",
      "3                                                7.0              \n",
      "4                                                9.0              \n",
      "\n",
      "  Did you the see the video  \\\n",
      "0                        No   \n",
      "1                        No   \n",
      "2                        No   \n",
      "3                        No   \n",
      "4                        No   \n",
      "\n",
      "  Did the music video aid in understanding the message or theme of the song.  \\\n",
      "0                                                NaN                           \n",
      "1                                                NaN                           \n",
      "2                                                NaN                           \n",
      "3                                                NaN                           \n",
      "4                                                NaN                           \n",
      "\n",
      "  Any parts of the music video that confused or distracted from the song's message?​  \\\n",
      "0                                                NaN                                   \n",
      "1                                                NaN                                   \n",
      "2                                                NaN                                   \n",
      "3                                                NaN                                   \n",
      "4                                                NaN                                   \n",
      "\n",
      "  Preference for future listening: with or without the music video?​  \\\n",
      "0                                                NaN                   \n",
      "1                                                NaN                   \n",
      "2                                                NaN                   \n",
      "3                                                NaN                   \n",
      "4                                                NaN                   \n",
      "\n",
      "  Do you usually watch music videos for songs you enjoy, or do you prefer just listening to the audio?  \\\n",
      "0                          Prefer listening to audio                                                     \n",
      "1  Like i prefer to watch the music video of the ...                                                     \n",
      "2  it depends on situation like if walking then l...                                                     \n",
      "3  Mostly I prefer to listen to the songs, but oc...                                                     \n",
      "4  Yes I do prefer watching the video more often ...                                                     \n",
      "\n",
      "      How often do you listen to this type of music?  \n",
      "0                                Frequent, Top Picks  \n",
      "1  Not very often , not at all infact becuse i li...  \n",
      "2  I dont listen this type of music much only few...  \n",
      "3  Almost all the time. Pop and heavy metal are t...  \n",
      "4                                     Not very often  \n"
     ]
    }
   ],
   "source": [
    "import pandas as pd\n",
    "import matplotlib.pyplot as plt\n",
    "\n",
    "# Assuming you have a CSV file named 'responses.csv'\n",
    "df = pd.read_csv('combined_file.csv')\n",
    "print(df.head())\n",
    "\n"
   ]
  },
  {
   "cell_type": "code",
   "execution_count": 8,
   "metadata": {},
   "outputs": [
    {
     "name": "stdout",
     "output_type": "stream",
     "text": [
      "0                                   Frequent, Top Picks\n",
      "1     Not very often , not at all infact becuse i li...\n",
      "2     I dont listen this type of music much only few...\n",
      "3     Almost all the time. Pop and heavy metal are t...\n",
      "4                                        Not very often\n",
      "5                                                Rarely\n",
      "6                                  approx 15-20 per day\n",
      "7     not very often. I listen to music while studyi...\n",
      "8                                         almost always\n",
      "9                                                Rarely\n",
      "10                                           Frequently\n",
      "11                                                  NaN\n",
      "12                                                  NaN\n",
      "13                                                  NaN\n",
      "14                                                  NaN\n",
      "Name: How often do you listen to this type of music?, dtype: object\n"
     ]
    }
   ],
   "source": [
    "print(df.iloc[:,-1])"
   ]
  },
  {
   "cell_type": "code",
   "execution_count": 9,
   "metadata": {},
   "outputs": [],
   "source": [
    "def get_sentiment(text):\n",
    "    # This function returns 'Yes' if the sentiment is positive, 'No' if it's negative or NaN\n",
    "    if pd.isna(text):\n",
    "        return 'No'\n",
    "    return 'Yes' if TextBlob(str(text)).sentiment.polarity > 0 else 'No'\n",
    "\n",
    "# Apply the function to the last column of the DataFrame to create the 'Prefer' column\n",
    "df['Prefer'] = df.iloc[:, -1].apply(get_sentiment)\n"
   ]
  },
  {
   "cell_type": "code",
   "execution_count": 13,
   "metadata": {},
   "outputs": [
    {
     "name": "stdout",
     "output_type": "stream",
     "text": [
      "0     9.0\n",
      "1     6.0\n",
      "2     7.0\n",
      "3     7.0\n",
      "4     9.0\n",
      "5     9.0\n",
      "6     2.0\n",
      "7     7.0\n",
      "8     8.0\n",
      "9     8.0\n",
      "10    9.0\n",
      "11    NaN\n",
      "12    NaN\n",
      "13    NaN\n",
      "14    NaN\n",
      "Name: Rate the overall liking of the song on a scale from 1 to 10., dtype: float64\n"
     ]
    }
   ],
   "source": [
    "print(df.iloc[:,12])"
   ]
  },
  {
   "cell_type": "code",
   "execution_count": 15,
   "metadata": {},
   "outputs": [
    {
     "data": {
      "image/png": "[encoded data removed]",
      "text/plain": [
       "<Figure size 500x500 with 1 Axes>"
      ]
     },
     "metadata": {},
     "output_type": "display_data"
    }
   ],
   "source": [
    "# Convert the Likert scale ratings to integers\n",
    "df['Likert Scale'] = df.iloc[:,12]\n",
    "\n",
    "# Separate the DataFrame into two groups based on the 'Prefer' column\n",
    "prefer_music = df[df['Prefer'] == 'Yes']\n",
    "not_prefer_music = df[df['Prefer'] == 'No']\n",
    "\n",
    "# Plot a histogram comparing the Likert scale ratings of the two groups\n",
    "plt.figure(figsize=(5, 5))\n",
    "plt.hist([prefer_music['Likert Scale'], not_prefer_music['Likert Scale']], label=['Prefer Music', 'Not Prefer Music'])\n",
    "plt.xlabel('Likert Scale Ratings')\n",
    "plt.ylabel('Number of Respondents')\n",
    "plt.title('Comparison of Likert Scale Ratings')\n",
    "plt.legend()\n",
    "plt.show()\n"
   ]
  },
  {
   "cell_type": "code",
   "execution_count": null,
   "metadata": {},
   "outputs": [],
   "source": []
  }
 ],
 "metadata": {
  "kernelspec": {
   "display_name": "Python 3",
   "language": "python",
   "name": "python3"
  },
  "language_info": {
   "codemirror_mode": {
    "name": "ipython",
    "version": 3
   },
   "file_extension": ".py",
   "mimetype": "text/x-python",
   "name": "python",
   "nbconvert_exporter": "python",
   "pygments_lexer": "ipython3",
   "version": "3.11.0"
  }
 },
 "nbformat": 4,
 "nbformat_minor": 2
}
