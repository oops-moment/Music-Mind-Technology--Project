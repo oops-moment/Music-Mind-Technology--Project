{
 "cells": [
  {
   "cell_type": "code",
   "execution_count": 3,
   "metadata": {},
   "outputs": [],
   "source": [
    "import pandas as pd\n",
    "\n",
    "# Load the first CSV file\n",
    "df1 = pd.read_csv('cols.csv')\n",
    "\n",
    "# Load the second CSV file\n",
    "df2 = pd.read_csv('responses.csv')\n",
    "\n",
    "# Append columns from df2 to df1\n",
    "df1 = pd.concat([df1, df2], axis=1)\n",
    "\n",
    "# Save the combined DataFrame to a new CSV file\n",
    "df1.to_csv('combined_file.csv', index=False)\n"
   ]
  },
  {
   "cell_type": "code",
   "execution_count": null,
   "metadata": {},
   "outputs": [],
   "source": []
  }
 ],
 "metadata": {
  "kernelspec": {
   "display_name": "ml",
   "language": "python",
   "name": "python3"
  },
  "language_info": {
   "codemirror_mode": {
    "name": "ipython",
    "version": 3
   },
   "file_extension": ".py",
   "mimetype": "text/x-python",
   "name": "python",
   "nbconvert_exporter": "python",
   "pygments_lexer": "ipython3",
   "version": "3.11.0"
  }
 },
 "nbformat": 4,
 "nbformat_minor": 2
}
